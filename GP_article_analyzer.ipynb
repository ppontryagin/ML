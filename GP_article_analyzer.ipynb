{
 "cells": [
  {
   "cell_type": "markdown",
   "metadata": {},
   "source": [
    "# Analyze GP articles"
   ]
  },
  {
   "cell_type": "markdown",
   "metadata": {},
   "source": [
    "### Goal"
   ]
  },
  {
   "cell_type": "markdown",
   "metadata": {},
   "source": [
    "The goal is to explore some basic text processing techniques.\n",
    "1. Get top words for different years\n",
    "2. Build classifier to detect article type by it`s content"
   ]
  },
  {
   "cell_type": "markdown",
   "metadata": {},
   "source": [
    "### Fire up Pandas"
   ]
  },
  {
   "cell_type": "markdown",
   "metadata": {},
   "source": [
    "Trick to insatll a package in docker container"
   ]
  },
  {
   "cell_type": "code",
   "execution_count": 25,
   "metadata": {},
   "outputs": [
    {
     "name": "stdout",
     "output_type": "stream",
     "text": [
      "Requirement already satisfied: nltk in /env/lib/python3.6/site-packages\n",
      "Requirement already satisfied: six in /env/lib/python3.6/site-packages (from nltk)\n",
      "Requirement already satisfied: stop_words in /env/lib/python3.6/site-packages\n"
     ]
    }
   ],
   "source": [
    "import pip    \n",
    "def install(package):\n",
    "   pip.main(['install', package])\n",
    "\n",
    "install('nltk')\n",
    "install('stop_words')"
   ]
  },
  {
   "cell_type": "code",
   "execution_count": 79,
   "metadata": {},
   "outputs": [],
   "source": [
    "import csv\n",
    "import operator\n",
    "import os\n",
    "import pandas\n",
    "import re\n",
    "import sklearn\n",
    "import string\n",
    "import numpy as np\n",
    "from sklearn.feature_extraction.text import CountVectorizer\n",
    "from stop_words import get_stop_words\n",
    "\n",
    "# visualization\n",
    "import seaborn as sns\n",
    "import matplotlib.pyplot as plt\n",
    "%matplotlib inline\n"
   ]
  },
  {
   "cell_type": "code",
   "execution_count": 27,
   "metadata": {},
   "outputs": [
    {
     "name": "stdout",
     "output_type": "stream",
     "text": [
      "[nltk_data] Downloading collection 'popular'\n",
      "[nltk_data]    | \n",
      "[nltk_data]    | Downloading package cmudict to /root/nltk_data...\n",
      "[nltk_data]    |   Unzipping corpora/cmudict.zip.\n",
      "[nltk_data]    | Downloading package gazetteers to /root/nltk_data...\n",
      "[nltk_data]    |   Unzipping corpora/gazetteers.zip.\n",
      "[nltk_data]    | Downloading package genesis to /root/nltk_data...\n",
      "[nltk_data]    |   Unzipping corpora/genesis.zip.\n",
      "[nltk_data]    | Downloading package gutenberg to /root/nltk_data...\n",
      "[nltk_data]    |   Unzipping corpora/gutenberg.zip.\n",
      "[nltk_data]    | Downloading package inaugural to /root/nltk_data...\n",
      "[nltk_data]    |   Unzipping corpora/inaugural.zip.\n",
      "[nltk_data]    | Downloading package movie_reviews to\n",
      "[nltk_data]    |     /root/nltk_data...\n",
      "[nltk_data]    |   Unzipping corpora/movie_reviews.zip.\n",
      "[nltk_data]    | Downloading package names to /root/nltk_data...\n",
      "[nltk_data]    |   Unzipping corpora/names.zip.\n",
      "[nltk_data]    | Downloading package shakespeare to /root/nltk_data...\n",
      "[nltk_data]    |   Unzipping corpora/shakespeare.zip.\n",
      "[nltk_data]    | Downloading package stopwords to /root/nltk_data...\n",
      "[nltk_data]    |   Unzipping corpora/stopwords.zip.\n",
      "[nltk_data]    | Downloading package treebank to /root/nltk_data...\n",
      "[nltk_data]    |   Unzipping corpora/treebank.zip.\n",
      "[nltk_data]    | Downloading package twitter_samples to\n",
      "[nltk_data]    |     /root/nltk_data...\n",
      "[nltk_data]    |   Unzipping corpora/twitter_samples.zip.\n",
      "[nltk_data]    | Downloading package omw to /root/nltk_data...\n",
      "[nltk_data]    |   Unzipping corpora/omw.zip.\n",
      "[nltk_data]    | Downloading package wordnet to /root/nltk_data...\n",
      "[nltk_data]    |   Unzipping corpora/wordnet.zip.\n",
      "[nltk_data]    | Downloading package wordnet_ic to /root/nltk_data...\n",
      "[nltk_data]    |   Unzipping corpora/wordnet_ic.zip.\n",
      "[nltk_data]    | Downloading package words to /root/nltk_data...\n",
      "[nltk_data]    |   Unzipping corpora/words.zip.\n",
      "[nltk_data]    | Downloading package maxent_ne_chunker to\n",
      "[nltk_data]    |     /root/nltk_data...\n",
      "[nltk_data]    |   Unzipping chunkers/maxent_ne_chunker.zip.\n",
      "[nltk_data]    | Downloading package punkt to /root/nltk_data...\n",
      "[nltk_data]    |   Unzipping tokenizers/punkt.zip.\n",
      "[nltk_data]    | Downloading package snowball_data to\n",
      "[nltk_data]    |     /root/nltk_data...\n",
      "[nltk_data]    | Downloading package averaged_perceptron_tagger to\n",
      "[nltk_data]    |     /root/nltk_data...\n",
      "[nltk_data]    |   Unzipping taggers/averaged_perceptron_tagger.zip.\n",
      "[nltk_data]    | \n",
      "[nltk_data]  Done downloading collection popular\n"
     ]
    },
    {
     "data": {
      "text/plain": [
       "True"
      ]
     },
     "execution_count": 27,
     "metadata": {},
     "output_type": "execute_result"
    }
   ],
   "source": [
    "import nltk\n",
    "nltk.download('popular')"
   ]
  },
  {
   "cell_type": "code",
   "execution_count": 28,
   "metadata": {
    "collapsed": true
   },
   "outputs": [],
   "source": [
    "data_dir = 'data/gp'\n",
    "separator = '|'\n",
    "column_names = ['link', 'date', 'title', 'category', 'body']"
   ]
  },
  {
   "cell_type": "markdown",
   "metadata": {},
   "source": [
    "### Read some article data"
   ]
  },
  {
   "cell_type": "code",
   "execution_count": 29,
   "metadata": {
    "collapsed": true
   },
   "outputs": [],
   "source": [
    "file_name = os.path.join(data_dir, 'gpdump0.csv')\n",
    "products = pandas.read_csv(file_name, delimiter=separator)"
   ]
  },
  {
   "cell_type": "code",
   "execution_count": 30,
   "metadata": {},
   "outputs": [
    {
     "data": {
      "text/plain": [
       "411"
      ]
     },
     "execution_count": 30,
     "metadata": {},
     "output_type": "execute_result"
    }
   ],
   "source": [
    "len(products)"
   ]
  },
  {
   "cell_type": "markdown",
   "metadata": {},
   "source": [
    "Look at the data"
   ]
  },
  {
   "cell_type": "code",
   "execution_count": 31,
   "metadata": {},
   "outputs": [
    {
     "data": {
      "text/html": [
       "<div>\n",
       "<style>\n",
       "    .dataframe thead tr:only-child th {\n",
       "        text-align: right;\n",
       "    }\n",
       "\n",
       "    .dataframe thead th {\n",
       "        text-align: left;\n",
       "    }\n",
       "\n",
       "    .dataframe tbody tr th {\n",
       "        vertical-align: top;\n",
       "    }\n",
       "</style>\n",
       "<table border=\"1\" class=\"dataframe\">\n",
       "  <thead>\n",
       "    <tr style=\"text-align: right;\">\n",
       "      <th></th>\n",
       "      <th>http://www.gp.se/1.226</th>\n",
       "      <th>2016-02-24</th>\n",
       "      <th>Applåder till tjänstemän i möte om flyktingbostäder</th>\n",
       "      <th>nyheter</th>\n",
       "      <th>Kommunens tjänstemän fick till och med applåder när mötet avslutades.Att råskället inte var det som dominerade i Glöstorpskyrkan berodde förmodligen på en märkbar närvaro av medlemmar i facebookgruppen Tillsammans i Tuve, som sedan starten för två veckor sedan fått över 800 medlemmar. Initiativtagare till den är Sükran Dogan, som bott i Tuve i 31 av sina 34 år.– Jag är för flyktingbostäder men tycker att modulerna skulle vara mer utspridda än i förslaget. Detta tycker jag att man måste kunna ha en saklig diskussion om.Sükran Dogan är – Gamla skolkamrater har slutat hälsa, de bara sneglar på mig. Det är läskigt.För de kommunala topptjänstemännen var gårdagskvällens möte det sjätte om flyktingbostäder. Glöstorpkyrkans 350 platser i kyrk- och församlingssal blev snabbt fulla, och de 150 som inte kom in fick besked att ett ytterligare möte skulle avlösa det fullsatta.Även om flera välkomnande inlägg fick applåder, blev det också bifall till en rad starkt kritiska. De handlade om personlig säkerhet, och geoteknisk säkerhet.Flera personer undrade hur kommunen kunde föreslå en plats så nära Tuverasets.Fastighetsdirektör Magnus Sigfusson svarade att inga markundersökningar ännu gjorts, men att sådana ska göras om platsen blir aktuell. På en fråga om alternativa lokaliseringar nämnde Sigfusson att det gamla rasområdet varit en av de som kommunen tittat på men avstått från att gå vidare med.Flera mötesdeltagare sade sig bo ”alldeles i närheten” av de planerade tillfälliga bostäderna, och undrade hur kommunen skall ”trygga säkerheten”.Michael Ivarson, chef för sociala resursförvaltningen, sa sig förstå oron, förklarade att alla ensamkommande har kontaktpersoner bland personalen och hänvisade till vad polisledningen sagt om larm från boenden:– Av alla händelser som polisen åker på är en procent kopplade till boende. Och av dem handlar det i nio fall av tio om konflikter mellan dem som bor där. En stor majoritet av ungdomarna är väldigt motiverade att komma in i samhället, sa Ivarson.En ung kvinna – Hittar vi många platser att bygga på kan vi göra så. Det lämpligaste är 100 till 150 boende per plats men då kanske vi behöver 30 platser i Göteborg i stället för de tolv som nu är på förslag, sa Magnus Sigfusson.</th>\n",
       "    </tr>\n",
       "  </thead>\n",
       "  <tbody>\n",
       "    <tr>\n",
       "      <th>0</th>\n",
       "      <td>http://www.gp.se/1.441</td>\n",
       "      <td>2016-02-25</td>\n",
       "      <td>Ali Khan släpper bok: Lite provocerande</td>\n",
       "      <td>sport</td>\n",
       "      <td>Att Mohammed Ali Khan skrivit en bok kommer in...</td>\n",
       "    </tr>\n",
       "    <tr>\n",
       "      <th>1</th>\n",
       "      <td>http://www.gp.se/1.676</td>\n",
       "      <td>2016-02-14</td>\n",
       "      <td>Brittisk popband dog i broolyckan</td>\n",
       "      <td>nyheter</td>\n",
       "      <td>Viola Beach är från staden Warrington och det ...</td>\n",
       "    </tr>\n",
       "    <tr>\n",
       "      <th>2</th>\n",
       "      <td>http://www.gp.se/1.879</td>\n",
       "      <td>2016-02-15</td>\n",
       "      <td>Svenska bönder är inga miljöbovar</td>\n",
       "      <td>nyheter</td>\n",
       "      <td>ReplikMiljövänlig mat, 9/2Jonas Paulsson hävda...</td>\n",
       "    </tr>\n",
       "    <tr>\n",
       "      <th>3</th>\n",
       "      <td>http://www.gp.se/1.1096</td>\n",
       "      <td>2016-02-16</td>\n",
       "      <td>I kväll bjuder Frölunda på en försmak av guld</td>\n",
       "      <td>sport</td>\n",
       "      <td>ScandinaviumFrölundasGott så, tror jag – och b...</td>\n",
       "    </tr>\n",
       "    <tr>\n",
       "      <th>4</th>\n",
       "      <td>http://www.gp.se/1.1316</td>\n",
       "      <td>2016-02-19</td>\n",
       "      <td>Onsaladådet: 39-åringen erkänner brott</td>\n",
       "      <td>nyheter</td>\n",
       "      <td>Enligt den tidigare planeringen skulle ett bes...</td>\n",
       "    </tr>\n",
       "  </tbody>\n",
       "</table>\n",
       "</div>"
      ],
      "text/plain": [
       "    http://www.gp.se/1.226  2016-02-24  \\\n",
       "0   http://www.gp.se/1.441  2016-02-25   \n",
       "1   http://www.gp.se/1.676  2016-02-14   \n",
       "2   http://www.gp.se/1.879  2016-02-15   \n",
       "3  http://www.gp.se/1.1096  2016-02-16   \n",
       "4  http://www.gp.se/1.1316  2016-02-19   \n",
       "\n",
       "  Applåder till tjänstemän i möte om flyktingbostäder   nyheter  \\\n",
       "0           Ali Khan släpper bok: Lite provocerande       sport   \n",
       "1                 Brittisk popband dog i broolyckan     nyheter   \n",
       "2                 Svenska bönder är inga miljöbovar     nyheter   \n",
       "3     I kväll bjuder Frölunda på en försmak av guld       sport   \n",
       "4            Onsaladådet: 39-åringen erkänner brott     nyheter   \n",
       "\n",
       "  Kommunens tjänstemän fick till och med applåder när mötet avslutades.Att råskället inte var det som dominerade i Glöstorpskyrkan berodde förmodligen på en märkbar närvaro av medlemmar i facebookgruppen Tillsammans i Tuve, som sedan starten för två veckor sedan fått över 800 medlemmar. Initiativtagare till den är Sükran Dogan, som bott i Tuve i 31 av sina 34 år.– Jag är för flyktingbostäder men tycker att modulerna skulle vara mer utspridda än i förslaget. Detta tycker jag att man måste kunna ha en saklig diskussion om.Sükran Dogan är – Gamla skolkamrater har slutat hälsa, de bara sneglar på mig. Det är läskigt.För de kommunala topptjänstemännen var gårdagskvällens möte det sjätte om flyktingbostäder. Glöstorpkyrkans 350 platser i kyrk- och församlingssal blev snabbt fulla, och de 150 som inte kom in fick besked att ett ytterligare möte skulle avlösa det fullsatta.Även om flera välkomnande inlägg fick applåder, blev det också bifall till en rad starkt kritiska. De handlade om personlig säkerhet, och geoteknisk säkerhet.Flera personer undrade hur kommunen kunde föreslå en plats så nära Tuverasets.Fastighetsdirektör Magnus Sigfusson svarade att inga markundersökningar ännu gjorts, men att sådana ska göras om platsen blir aktuell. På en fråga om alternativa lokaliseringar nämnde Sigfusson att det gamla rasområdet varit en av de som kommunen tittat på men avstått från att gå vidare med.Flera mötesdeltagare sade sig bo ”alldeles i närheten” av de planerade tillfälliga bostäderna, och undrade hur kommunen skall ”trygga säkerheten”.Michael Ivarson, chef för sociala resursförvaltningen, sa sig förstå oron, förklarade att alla ensamkommande har kontaktpersoner bland personalen och hänvisade till vad polisledningen sagt om larm från boenden:– Av alla händelser som polisen åker på är en procent kopplade till boende. Och av dem handlar det i nio fall av tio om konflikter mellan dem som bor där. En stor majoritet av ungdomarna är väldigt motiverade att komma in i samhället, sa Ivarson.En ung kvinna – Hittar vi många platser att bygga på kan vi göra så. Det lämpligaste är 100 till 150 boende per plats men då kanske vi behöver 30 platser i Göteborg i stället för de tolv som nu är på förslag, sa Magnus Sigfusson.  \n",
       "0  Att Mohammed Ali Khan skrivit en bok kommer in...                                                                                                                                                                                                                                                                                                                                                                                                                                                                                                                                                                                                                                                                                                                                                                                                                                                                                                                                                                                                                                                                                                                                                                                                                                                                                                                                                                                                                                                                                                                                                                                                                                                                                                                                                                                                                                                                                                                                                                                                                                                                                                                                                                                                                                                                           \n",
       "1  Viola Beach är från staden Warrington och det ...                                                                                                                                                                                                                                                                                                                                                                                                                                                                                                                                                                                                                                                                                                                                                                                                                                                                                                                                                                                                                                                                                                                                                                                                                                                                                                                                                                                                                                                                                                                                                                                                                                                                                                                                                                                                                                                                                                                                                                                                                                                                                                                                                                                                                                                                           \n",
       "2  ReplikMiljövänlig mat, 9/2Jonas Paulsson hävda...                                                                                                                                                                                                                                                                                                                                                                                                                                                                                                                                                                                                                                                                                                                                                                                                                                                                                                                                                                                                                                                                                                                                                                                                                                                                                                                                                                                                                                                                                                                                                                                                                                                                                                                                                                                                                                                                                                                                                                                                                                                                                                                                                                                                                                                                           \n",
       "3  ScandinaviumFrölundasGott så, tror jag – och b...                                                                                                                                                                                                                                                                                                                                                                                                                                                                                                                                                                                                                                                                                                                                                                                                                                                                                                                                                                                                                                                                                                                                                                                                                                                                                                                                                                                                                                                                                                                                                                                                                                                                                                                                                                                                                                                                                                                                                                                                                                                                                                                                                                                                                                                                           \n",
       "4  Enligt den tidigare planeringen skulle ett bes...                                                                                                                                                                                                                                                                                                                                                                                                                                                                                                                                                                                                                                                                                                                                                                                                                                                                                                                                                                                                                                                                                                                                                                                                                                                                                                                                                                                                                                                                                                                                                                                                                                                                                                                                                                                                                                                                                                                                                                                                                                                                                                                                                                                                                                                                           "
      ]
     },
     "execution_count": 31,
     "metadata": {},
     "output_type": "execute_result"
    }
   ],
   "source": [
    "products.head()"
   ]
  },
  {
   "cell_type": "markdown",
   "metadata": {},
   "source": [
    "### 1. Get top words for different years"
   ]
  },
  {
   "cell_type": "markdown",
   "metadata": {},
   "source": [
    "All articles are scattered across files in dump folder. The idea is to concatenate all of them into one big yearly blob, clean it and detect top words."
   ]
  },
  {
   "cell_type": "markdown",
   "metadata": {},
   "source": [
    "#### 1.1 Assemble everything together"
   ]
  },
  {
   "cell_type": "raw",
   "metadata": {},
   "source": [
    "Loop through the files in dump folder and create one big file.\n",
    "TODO: think about routing at the same time"
   ]
  },
  {
   "cell_type": "code",
   "execution_count": 32,
   "metadata": {
    "collapsed": true
   },
   "outputs": [],
   "source": [
    "articles = pandas.DataFrame()\n",
    "\n",
    "for filename in os.listdir(data_dir):\n",
    "    if filename.endswith(\"2.csv\"): \n",
    "        #print(filename)\n",
    "        articles = articles.append(pandas.read_csv(\n",
    "            os.path.join(data_dir, filename), \n",
    "            delimiter=separator,\n",
    "            error_bad_lines=False,\n",
    "            quoting=csv.QUOTE_ALL,\n",
    "            #quoting=csv.QUOTE_NONE,\n",
    "            names=column_names,\n",
    "            header=None), ignore_index = True)\n",
    "        continue\n",
    "    else:\n",
    "        continue"
   ]
  },
  {
   "cell_type": "markdown",
   "metadata": {},
   "source": [
    "TODO: Some files contain incorrect data. Need to fix it later"
   ]
  },
  {
   "cell_type": "code",
   "execution_count": 33,
   "metadata": {},
   "outputs": [
    {
     "data": {
      "text/html": [
       "<div>\n",
       "<style>\n",
       "    .dataframe thead tr:only-child th {\n",
       "        text-align: right;\n",
       "    }\n",
       "\n",
       "    .dataframe thead th {\n",
       "        text-align: left;\n",
       "    }\n",
       "\n",
       "    .dataframe tbody tr th {\n",
       "        vertical-align: top;\n",
       "    }\n",
       "</style>\n",
       "<table border=\"1\" class=\"dataframe\">\n",
       "  <thead>\n",
       "    <tr style=\"text-align: right;\">\n",
       "      <th></th>\n",
       "      <th>link</th>\n",
       "      <th>date</th>\n",
       "      <th>title</th>\n",
       "      <th>category</th>\n",
       "      <th>body</th>\n",
       "    </tr>\n",
       "  </thead>\n",
       "  <tbody>\n",
       "    <tr>\n",
       "      <th>0</th>\n",
       "      <td>http://www.gp.se/1.289</td>\n",
       "      <td>2016-02-24</td>\n",
       "      <td>VM-hjälten twittrade om presidenten – riskerar...</td>\n",
       "      <td>sport</td>\n",
       "      <td>Åklagare har åtalat Sükür för att på Twitter h...</td>\n",
       "    </tr>\n",
       "    <tr>\n",
       "      <th>1</th>\n",
       "      <td>http://www.gp.se/1.625</td>\n",
       "      <td>2016-02-13</td>\n",
       "      <td>Skrev Anna säg ja!\" i snön – så gick det sedan \"</td>\n",
       "      <td>nyheter</td>\n",
       "      <td>Han har varit ihop med sin tjej Anna Bergman s...</td>\n",
       "    </tr>\n",
       "    <tr>\n",
       "      <th>2</th>\n",
       "      <td>http://www.gp.se/1.877</td>\n",
       "      <td>2016-02-15</td>\n",
       "      <td>Knarkhandel i Sahlgrenskas entré - tvingas sät...</td>\n",
       "      <td>nyheter</td>\n",
       "      <td>- Det var en helt ohållbar situation som vi in...</td>\n",
       "    </tr>\n",
       "    <tr>\n",
       "      <th>3</th>\n",
       "      <td>http://www.gp.se/1.1094</td>\n",
       "      <td>2016-02-16</td>\n",
       "      <td>Hit reser göteborgarna på sportlovet</td>\n",
       "      <td>nyheter</td>\n",
       "      <td>Gran Canaria, London och Miami. Där har ni göt...</td>\n",
       "    </tr>\n",
       "    <tr>\n",
       "      <th>4</th>\n",
       "      <td>http://www.gp.se/1.1321</td>\n",
       "      <td>2016-02-19</td>\n",
       "      <td>Yoko Ono</td>\n",
       "      <td>noje</td>\n",
       "      <td>Det är omöjligt att skilja på Yoko Onos konst ...</td>\n",
       "    </tr>\n",
       "    <tr>\n",
       "      <th>5</th>\n",
       "      <td>http://www.gp.se/1.1566</td>\n",
       "      <td>2016-02-21</td>\n",
       "      <td>Erik 19, hamnade mitt i Fiji-cyklonen - strand...</td>\n",
       "      <td>nyheter</td>\n",
       "      <td>Nu berättar han om de turbulenta dagarna.- Vi ...</td>\n",
       "    </tr>\n",
       "    <tr>\n",
       "      <th>6</th>\n",
       "      <td>http://www.gp.se/1.1835</td>\n",
       "      <td>2016-02-23</td>\n",
       "      <td>Ingemark Stenmarks ilska: Jag hatade det där</td>\n",
       "      <td>sport</td>\n",
       "      <td>För första gången körs parallellslalom som en ...</td>\n",
       "    </tr>\n",
       "    <tr>\n",
       "      <th>7</th>\n",
       "      <td>http://www.gp.se/1.2016</td>\n",
       "      <td>2016-02-27</td>\n",
       "      <td>Ku Klux Klan stöder Donald Trump</td>\n",
       "      <td>nyheter</td>\n",
       "      <td>Donald Trump har tidigare gjort uttalanden om ...</td>\n",
       "    </tr>\n",
       "    <tr>\n",
       "      <th>8</th>\n",
       "      <td>http://www.gp.se/1.2237</td>\n",
       "      <td>2016-02-29</td>\n",
       "      <td>Kraftig explosion på Hisingen - lägenhet total...</td>\n",
       "      <td>nyheter</td>\n",
       "      <td>En kraftig explosion inträffade på måndagsfö...</td>\n",
       "    </tr>\n",
       "    <tr>\n",
       "      <th>9</th>\n",
       "      <td>http://www.gp.se/1.2532</td>\n",
       "      <td>2016-03-01</td>\n",
       "      <td>Larholm aktuell för Sävehof</td>\n",
       "      <td>sport</td>\n",
       "      <td>Sävehof rustar inför flytten till nybyggda Par...</td>\n",
       "    </tr>\n",
       "  </tbody>\n",
       "</table>\n",
       "</div>"
      ],
      "text/plain": [
       "                      link        date  \\\n",
       "0   http://www.gp.se/1.289  2016-02-24   \n",
       "1   http://www.gp.se/1.625  2016-02-13   \n",
       "2   http://www.gp.se/1.877  2016-02-15   \n",
       "3  http://www.gp.se/1.1094  2016-02-16   \n",
       "4  http://www.gp.se/1.1321  2016-02-19   \n",
       "5  http://www.gp.se/1.1566  2016-02-21   \n",
       "6  http://www.gp.se/1.1835  2016-02-23   \n",
       "7  http://www.gp.se/1.2016  2016-02-27   \n",
       "8  http://www.gp.se/1.2237  2016-02-29   \n",
       "9  http://www.gp.se/1.2532  2016-03-01   \n",
       "\n",
       "                                               title category  \\\n",
       "0  VM-hjälten twittrade om presidenten – riskerar...    sport   \n",
       "1   Skrev Anna säg ja!\" i snön – så gick det sedan \"  nyheter   \n",
       "2  Knarkhandel i Sahlgrenskas entré - tvingas sät...  nyheter   \n",
       "3              Hit reser göteborgarna på sportlovet   nyheter   \n",
       "4                                          Yoko Ono      noje   \n",
       "5  Erik 19, hamnade mitt i Fiji-cyklonen - strand...  nyheter   \n",
       "6      Ingemark Stenmarks ilska: Jag hatade det där     sport   \n",
       "7                  Ku Klux Klan stöder Donald Trump   nyheter   \n",
       "8  Kraftig explosion på Hisingen - lägenhet total...  nyheter   \n",
       "9                       Larholm aktuell för Sävehof     sport   \n",
       "\n",
       "                                                body  \n",
       "0  Åklagare har åtalat Sükür för att på Twitter h...  \n",
       "1  Han har varit ihop med sin tjej Anna Bergman s...  \n",
       "2  - Det var en helt ohållbar situation som vi in...  \n",
       "3  Gran Canaria, London och Miami. Där har ni göt...  \n",
       "4  Det är omöjligt att skilja på Yoko Onos konst ...  \n",
       "5  Nu berättar han om de turbulenta dagarna.- Vi ...  \n",
       "6  För första gången körs parallellslalom som en ...  \n",
       "7  Donald Trump har tidigare gjort uttalanden om ...  \n",
       "8    En kraftig explosion inträffade på måndagsfö...  \n",
       "9  Sävehof rustar inför flytten till nybyggda Par...  "
      ]
     },
     "execution_count": 33,
     "metadata": {},
     "output_type": "execute_result"
    }
   ],
   "source": [
    "articles.head(10)"
   ]
  },
  {
   "cell_type": "markdown",
   "metadata": {},
   "source": [
    "#### Analyze number of articles per day"
   ]
  },
  {
   "cell_type": "code",
   "execution_count": 34,
   "metadata": {},
   "outputs": [
    {
     "data": {
      "text/plain": [
       "<matplotlib.axes._subplots.AxesSubplot at 0x7fd84b810390>"
      ]
     },
     "execution_count": 34,
     "metadata": {},
     "output_type": "execute_result"
    },
    {
     "name": "stderr",
     "output_type": "stream",
     "text": [
      "/env/lib/python3.6/site-packages/matplotlib/font_manager.py:1297: UserWarning: findfont: Font family ['sans-serif'] not found. Falling back to DejaVu Sans\n",
      "  (prop.get_family(), self.defaultFamily[fontext]))\n"
     ]
    },
    {
     "data": {
      "image/png": "[encoded data removed]",
      "text/plain": [
       "<matplotlib.figure.Figure at 0x7fd84b6e7128>"
      ]
     },
     "metadata": {},
     "output_type": "display_data"
    }
   ],
   "source": [
    "a2016['date'].value_counts().plot(kind='bar')"
   ]
  },
  {
   "cell_type": "code",
   "execution_count": 35,
   "metadata": {},
   "outputs": [
    {
     "data": {
      "text/plain": [
       "2015-04-24    28\n",
       "2015-01-22    27\n",
       "2015-03-24    27\n",
       "2015-03-13    27\n",
       "2015-02-13    27\n",
       "2015-02-06    27\n",
       "2015-03-05    27\n",
       "2015-01-29    26\n",
       "2015-04-14    26\n",
       "2015-03-25    26\n",
       "2015-02-20    26\n",
       "2015-03-06    26\n",
       "2015-02-26    26\n",
       "2015-03-27    26\n",
       "2015-01-14    26\n",
       "2015-03-17    26\n",
       "2015-04-30    25\n",
       "2015-04-20    25\n",
       "2015-04-29    25\n",
       "2015-03-31    25\n",
       "2015-03-11    25\n",
       "2015-02-17    25\n",
       "2015-04-23    25\n",
       "2015-03-20    25\n",
       "2015-02-23    25\n",
       "2015-04-15    24\n",
       "2015-04-08    24\n",
       "2015-01-19    24\n",
       "2015-01-16    24\n",
       "2015-02-19    24\n",
       "              ..\n",
       "2015-01-02    14\n",
       "2015-04-25    14\n",
       "2015-02-21    14\n",
       "2015-03-01    14\n",
       "2015-03-28    14\n",
       "2015-01-01    14\n",
       "2015-04-06    14\n",
       "2015-01-24    14\n",
       "2015-01-06    13\n",
       "2015-01-25    13\n",
       "2015-04-18    13\n",
       "2015-01-03    13\n",
       "2015-01-31    13\n",
       "2015-03-22    13\n",
       "2015-02-07    12\n",
       "2015-01-18    12\n",
       "2015-04-05    12\n",
       "2015-01-11    11\n",
       "2015-01-04    11\n",
       "2015-05-01    11\n",
       "2015-02-01    11\n",
       "2015-03-08     9\n",
       "2015-05-02     3\n",
       "2015-05-11     1\n",
       "2015-05-10     1\n",
       "2015-05-15     1\n",
       "2015-12-18     1\n",
       "2015-05-04     1\n",
       "2015-06-03     1\n",
       "2015-12-21     1\n",
       "Name: date, Length: 129, dtype: int64"
      ]
     },
     "execution_count": 35,
     "metadata": {},
     "output_type": "execute_result"
    }
   ],
   "source": [
    "a2015['date'].value_counts()"
   ]
  },
  {
   "cell_type": "markdown",
   "metadata": {
    "collapsed": true
   },
   "source": [
    "#### 1.2 Now let`s create datasets for years 2014, 2015, 2016, 2017"
   ]
  },
  {
   "cell_type": "code",
   "execution_count": 36,
   "metadata": {
    "collapsed": true
   },
   "outputs": [],
   "source": [
    "a2014 = pandas.DataFrame(columns=column_names)\n",
    "a2015 = pandas.DataFrame(columns=column_names)\n",
    "a2016 = pandas.DataFrame(columns=column_names)\n",
    "a2017 = pandas.DataFrame(columns=column_names)"
   ]
  },
  {
   "cell_type": "code",
   "execution_count": 37,
   "metadata": {
    "collapsed": true
   },
   "outputs": [],
   "source": [
    "for index ,row in articles.iterrows():\n",
    "    if row['date'].startswith('2014'):\n",
    "        a2014 = a2014.append(row)\n",
    "    elif row['date'].startswith('2015'):\n",
    "        a2015 = a2015.append(row)\n",
    "    elif row['date'].startswith('2016'):\n",
    "        a2016 = a2016.append(row)\n",
    "    elif row['date'].startswith('2017'):\n",
    "        a2017 = a2017.append(row)\n",
    "\n",
    "    "
   ]
  },
  {
   "cell_type": "code",
   "execution_count": 38,
   "metadata": {},
   "outputs": [
    {
     "data": {
      "text/html": [
       "<div>\n",
       "<style>\n",
       "    .dataframe thead tr:only-child th {\n",
       "        text-align: right;\n",
       "    }\n",
       "\n",
       "    .dataframe thead th {\n",
       "        text-align: left;\n",
       "    }\n",
       "\n",
       "    .dataframe tbody tr th {\n",
       "        vertical-align: top;\n",
       "    }\n",
       "</style>\n",
       "<table border=\"1\" class=\"dataframe\">\n",
       "  <thead>\n",
       "    <tr style=\"text-align: right;\">\n",
       "      <th></th>\n",
       "      <th>link</th>\n",
       "      <th>date</th>\n",
       "      <th>title</th>\n",
       "      <th>category</th>\n",
       "      <th>body</th>\n",
       "    </tr>\n",
       "  </thead>\n",
       "  <tbody>\n",
       "  </tbody>\n",
       "</table>\n",
       "</div>"
      ],
      "text/plain": [
       "Empty DataFrame\n",
       "Columns: [link, date, title, category, body]\n",
       "Index: []"
      ]
     },
     "execution_count": 38,
     "metadata": {},
     "output_type": "execute_result"
    }
   ],
   "source": [
    "a2014.head()"
   ]
  },
  {
   "cell_type": "code",
   "execution_count": 39,
   "metadata": {},
   "outputs": [
    {
     "data": {
      "text/html": [
       "<div>\n",
       "<style>\n",
       "    .dataframe thead tr:only-child th {\n",
       "        text-align: right;\n",
       "    }\n",
       "\n",
       "    .dataframe thead th {\n",
       "        text-align: left;\n",
       "    }\n",
       "\n",
       "    .dataframe tbody tr th {\n",
       "        vertical-align: top;\n",
       "    }\n",
       "</style>\n",
       "<table border=\"1\" class=\"dataframe\">\n",
       "  <thead>\n",
       "    <tr style=\"text-align: right;\">\n",
       "      <th></th>\n",
       "      <th>link</th>\n",
       "      <th>date</th>\n",
       "      <th>title</th>\n",
       "      <th>category</th>\n",
       "      <th>body</th>\n",
       "    </tr>\n",
       "  </thead>\n",
       "  <tbody>\n",
       "    <tr>\n",
       "      <th>153</th>\n",
       "      <td>http://www.gp.se/1.42327</td>\n",
       "      <td>2015-01-09</td>\n",
       "      <td>Steen målskytt i målfest</td>\n",
       "      <td>sport</td>\n",
       "      <td>De övriga i kedjan är David Backis och T J Osh...</td>\n",
       "    </tr>\n",
       "    <tr>\n",
       "      <th>154</th>\n",
       "      <td>http://www.gp.se/1.42498</td>\n",
       "      <td>2015-01-09</td>\n",
       "      <td>Thunebro ersättare i landskamp</td>\n",
       "      <td>sport</td>\n",
       "      <td>Rosengård-försvararen Lina Nilsson är sjuk och...</td>\n",
       "    </tr>\n",
       "    <tr>\n",
       "      <th>155</th>\n",
       "      <td>http://www.gp.se/1.42664</td>\n",
       "      <td>2015-01-10</td>\n",
       "      <td>Förre CIA-chefen riskerar åtal</td>\n",
       "      <td>nyheter</td>\n",
       "      <td>Det blir justitieminister Eric Holder som ska ...</td>\n",
       "    </tr>\n",
       "    <tr>\n",
       "      <th>156</th>\n",
       "      <td>http://www.gp.se/1.42830</td>\n",
       "      <td>2015-01-10</td>\n",
       "      <td>Två svårt skadade i krock i Umeå</td>\n",
       "      <td>nyheter</td>\n",
       "      <td>Fem personer skadades i en olycka mellan två b...</td>\n",
       "    </tr>\n",
       "    <tr>\n",
       "      <th>157</th>\n",
       "      <td>http://www.gp.se/1.43215</td>\n",
       "      <td>2015-01-11</td>\n",
       "      <td>Brandattentat mot tysk dagstidning</td>\n",
       "      <td>nyheter</td>\n",
       "      <td>Den tyska dagstidningen Hamburger Morgenpost, ...</td>\n",
       "    </tr>\n",
       "  </tbody>\n",
       "</table>\n",
       "</div>"
      ],
      "text/plain": [
       "                         link        date  \\\n",
       "153  http://www.gp.se/1.42327  2015-01-09   \n",
       "154  http://www.gp.se/1.42498  2015-01-09   \n",
       "155  http://www.gp.se/1.42664  2015-01-10   \n",
       "156  http://www.gp.se/1.42830  2015-01-10   \n",
       "157  http://www.gp.se/1.43215  2015-01-11   \n",
       "\n",
       "                                   title category  \\\n",
       "153            Steen målskytt i målfest     sport   \n",
       "154      Thunebro ersättare i landskamp     sport   \n",
       "155      Förre CIA-chefen riskerar åtal   nyheter   \n",
       "156    Två svårt skadade i krock i Umeå   nyheter   \n",
       "157  Brandattentat mot tysk dagstidning   nyheter   \n",
       "\n",
       "                                                  body  \n",
       "153  De övriga i kedjan är David Backis och T J Osh...  \n",
       "154  Rosengård-försvararen Lina Nilsson är sjuk och...  \n",
       "155  Det blir justitieminister Eric Holder som ska ...  \n",
       "156  Fem personer skadades i en olycka mellan två b...  \n",
       "157  Den tyska dagstidningen Hamburger Morgenpost, ...  "
      ]
     },
     "execution_count": 39,
     "metadata": {},
     "output_type": "execute_result"
    }
   ],
   "source": [
    "a2015.head()"
   ]
  },
  {
   "cell_type": "code",
   "execution_count": 40,
   "metadata": {},
   "outputs": [
    {
     "data": {
      "text/html": [
       "<div>\n",
       "<style>\n",
       "    .dataframe thead tr:only-child th {\n",
       "        text-align: right;\n",
       "    }\n",
       "\n",
       "    .dataframe thead th {\n",
       "        text-align: left;\n",
       "    }\n",
       "\n",
       "    .dataframe tbody tr th {\n",
       "        vertical-align: top;\n",
       "    }\n",
       "</style>\n",
       "<table border=\"1\" class=\"dataframe\">\n",
       "  <thead>\n",
       "    <tr style=\"text-align: right;\">\n",
       "      <th></th>\n",
       "      <th>link</th>\n",
       "      <th>date</th>\n",
       "      <th>title</th>\n",
       "      <th>category</th>\n",
       "      <th>body</th>\n",
       "    </tr>\n",
       "  </thead>\n",
       "  <tbody>\n",
       "    <tr>\n",
       "      <th>0</th>\n",
       "      <td>http://www.gp.se/1.289</td>\n",
       "      <td>2016-02-24</td>\n",
       "      <td>VM-hjälten twittrade om presidenten – riskerar...</td>\n",
       "      <td>sport</td>\n",
       "      <td>Åklagare har åtalat Sükür för att på Twitter h...</td>\n",
       "    </tr>\n",
       "    <tr>\n",
       "      <th>1</th>\n",
       "      <td>http://www.gp.se/1.625</td>\n",
       "      <td>2016-02-13</td>\n",
       "      <td>Skrev Anna säg ja!\" i snön – så gick det sedan \"</td>\n",
       "      <td>nyheter</td>\n",
       "      <td>Han har varit ihop med sin tjej Anna Bergman s...</td>\n",
       "    </tr>\n",
       "    <tr>\n",
       "      <th>2</th>\n",
       "      <td>http://www.gp.se/1.877</td>\n",
       "      <td>2016-02-15</td>\n",
       "      <td>Knarkhandel i Sahlgrenskas entré - tvingas sät...</td>\n",
       "      <td>nyheter</td>\n",
       "      <td>- Det var en helt ohållbar situation som vi in...</td>\n",
       "    </tr>\n",
       "    <tr>\n",
       "      <th>3</th>\n",
       "      <td>http://www.gp.se/1.1094</td>\n",
       "      <td>2016-02-16</td>\n",
       "      <td>Hit reser göteborgarna på sportlovet</td>\n",
       "      <td>nyheter</td>\n",
       "      <td>Gran Canaria, London och Miami. Där har ni göt...</td>\n",
       "    </tr>\n",
       "    <tr>\n",
       "      <th>4</th>\n",
       "      <td>http://www.gp.se/1.1321</td>\n",
       "      <td>2016-02-19</td>\n",
       "      <td>Yoko Ono</td>\n",
       "      <td>noje</td>\n",
       "      <td>Det är omöjligt att skilja på Yoko Onos konst ...</td>\n",
       "    </tr>\n",
       "  </tbody>\n",
       "</table>\n",
       "</div>"
      ],
      "text/plain": [
       "                      link        date  \\\n",
       "0   http://www.gp.se/1.289  2016-02-24   \n",
       "1   http://www.gp.se/1.625  2016-02-13   \n",
       "2   http://www.gp.se/1.877  2016-02-15   \n",
       "3  http://www.gp.se/1.1094  2016-02-16   \n",
       "4  http://www.gp.se/1.1321  2016-02-19   \n",
       "\n",
       "                                               title category  \\\n",
       "0  VM-hjälten twittrade om presidenten – riskerar...    sport   \n",
       "1   Skrev Anna säg ja!\" i snön – så gick det sedan \"  nyheter   \n",
       "2  Knarkhandel i Sahlgrenskas entré - tvingas sät...  nyheter   \n",
       "3              Hit reser göteborgarna på sportlovet   nyheter   \n",
       "4                                          Yoko Ono      noje   \n",
       "\n",
       "                                                body  \n",
       "0  Åklagare har åtalat Sükür för att på Twitter h...  \n",
       "1  Han har varit ihop med sin tjej Anna Bergman s...  \n",
       "2  - Det var en helt ohållbar situation som vi in...  \n",
       "3  Gran Canaria, London och Miami. Där har ni göt...  \n",
       "4  Det är omöjligt att skilja på Yoko Onos konst ...  "
      ]
     },
     "execution_count": 40,
     "metadata": {},
     "output_type": "execute_result"
    }
   ],
   "source": [
    "a2016.head()"
   ]
  },
  {
   "cell_type": "code",
   "execution_count": 41,
   "metadata": {},
   "outputs": [
    {
     "data": {
      "text/html": [
       "<div>\n",
       "<style>\n",
       "    .dataframe thead tr:only-child th {\n",
       "        text-align: right;\n",
       "    }\n",
       "\n",
       "    .dataframe thead th {\n",
       "        text-align: left;\n",
       "    }\n",
       "\n",
       "    .dataframe tbody tr th {\n",
       "        vertical-align: top;\n",
       "    }\n",
       "</style>\n",
       "<table border=\"1\" class=\"dataframe\">\n",
       "  <thead>\n",
       "    <tr style=\"text-align: right;\">\n",
       "      <th></th>\n",
       "      <th>link</th>\n",
       "      <th>date</th>\n",
       "      <th>title</th>\n",
       "      <th>category</th>\n",
       "      <th>body</th>\n",
       "    </tr>\n",
       "  </thead>\n",
       "  <tbody>\n",
       "  </tbody>\n",
       "</table>\n",
       "</div>"
      ],
      "text/plain": [
       "Empty DataFrame\n",
       "Columns: [link, date, title, category, body]\n",
       "Index: []"
      ]
     },
     "execution_count": 41,
     "metadata": {},
     "output_type": "execute_result"
    }
   ],
   "source": [
    "a2017.head()"
   ]
  },
  {
   "cell_type": "markdown",
   "metadata": {},
   "source": [
    "#### 1.3 Get the top words for each yearly dataset"
   ]
  },
  {
   "cell_type": "code",
   "execution_count": 42,
   "metadata": {},
   "outputs": [
    {
     "data": {
      "text/plain": [
       "pandas.core.series.Series"
      ]
     },
     "execution_count": 42,
     "metadata": {},
     "output_type": "execute_result"
    }
   ],
   "source": [
    "type(a2015[\"body\"])"
   ]
  },
  {
   "cell_type": "code",
   "execution_count": 43,
   "metadata": {
    "collapsed": true
   },
   "outputs": [],
   "source": [
    "# clean removes numbers and punctuation from a given article. Only swedish alphabet left.\n",
    "def clean(x):\n",
    "    return re.sub(\"[^a-zåäöA-ZÅÄÖ]\", \" \", str(x)) \n",
    "\n",
    "a2014[\"body_clean\"] = a2014[\"body\"].apply(clean)\n",
    "a2015[\"body_clean\"] = a2015[\"body\"].apply(clean)\n",
    "a2016[\"body_clean\"] = a2016[\"body\"].apply(clean)\n",
    "a2017[\"body_clean\"] = a2017[\"body\"].apply(clean)"
   ]
  },
  {
   "cell_type": "code",
   "execution_count": 62,
   "metadata": {},
   "outputs": [],
   "source": [
    "# Add stemmer\n",
    "from nltk.stem.snowball import SnowballStemmer\n",
    "stemmer = SnowballStemmer(\"swedish\")\n",
    "\n",
    "# Add stopwords\n",
    "from nltk.corpus import stopwords\n",
    "sw = stopwords.words(\"swedish\")\n",
    "new_words = ['int','säg', 'ska','komm', 'und', 'eft', 'tid', 'också', 'enl', 'in', 'år', 'två', 'had', 'ta', 'året'\n",
    "             'dag', 'vill', 'all', 'även', 'först', 'ell', 'andr', 'fler', 'gör', 'finn', 'skull', 'sen', 'fick', 'bar',\n",
    "            'er','får', 'kron', 'sver', 'spel','sitt','bland', 'stor', 'del', 'person', 'procent','ann', 'mång','få', 'ing', 'tre', 's']\n",
    "\n",
    "hdl = open(os.path.join(data_dir, 'sv_stop.txt'), 'r').read().split('\\n')\n",
    "sw.extend(new_words)\n",
    "sw.extend(hdl)\n"
   ]
  },
  {
   "cell_type": "code",
   "execution_count": 63,
   "metadata": {
    "collapsed": true
   },
   "outputs": [],
   "source": [
    "def stem_tokens(tokens, stemmer):\n",
    "    stemmed = []\n",
    "    for item in tokens:\n",
    "        stemmed.append(stemmer.stem(item))\n",
    "    return stemmed"
   ]
  },
  {
   "cell_type": "code",
   "execution_count": 64,
   "metadata": {
    "collapsed": true
   },
   "outputs": [],
   "source": [
    "def tokenize(text):\n",
    "    text = \"\".join([ch for ch in text if ch not in string.punctuation])\n",
    "    tokens = nltk.word_tokenize(text)\n",
    "    stems = stem_tokens(tokens, stemmer)\n",
    "    return stems"
   ]
  },
  {
   "cell_type": "code",
   "execution_count": 65,
   "metadata": {
    "collapsed": true
   },
   "outputs": [],
   "source": [
    "# year 2015\n",
    "vect2015 = CountVectorizer(tokenizer=tokenize, lowercase=True, stop_words=sw)\n",
    "features2015 = vect2015.fit_transform(a2015['body_clean'].values.astype('U'))\n",
    "\n",
    "# year 2016 \n",
    "vect2016 = CountVectorizer(tokenizer=tokenize, lowercase=True, stop_words=sw)\n",
    "features2016 = vect2016.fit_transform(a2016['body_clean'].values.astype('U'))"
   ]
  },
  {
   "cell_type": "code",
   "execution_count": 66,
   "metadata": {
    "collapsed": true
   },
   "outputs": [],
   "source": [
    "# define function to glue words from vocab and counts\n",
    "def zip_vocab(voc, counts):\n",
    "    return dict(zip(voc, counts))"
   ]
  },
  {
   "cell_type": "code",
   "execution_count": 67,
   "metadata": {
    "collapsed": true
   },
   "outputs": [],
   "source": [
    "vocab_2015 = vect2015.get_feature_names()\n",
    "counts_2015 = features2015.sum(axis=0).A1\n",
    "\n",
    "vocab_2016 = vect2016.get_feature_names()\n",
    "counts_2016 = features2016.sum(axis=0).A1"
   ]
  },
  {
   "cell_type": "code",
   "execution_count": 68,
   "metadata": {
    "collapsed": true
   },
   "outputs": [],
   "source": [
    "dict_2015 = zip_vocab(vocab_2015, counts_2015)\n",
    "dict_2016 = zip_vocab(vocab_2016, counts_2016)"
   ]
  },
  {
   "cell_type": "markdown",
   "metadata": {},
   "source": [
    "##### Print top 10 words"
   ]
  },
  {
   "cell_type": "code",
   "execution_count": 69,
   "metadata": {
    "collapsed": true
   },
   "outputs": [],
   "source": [
    "# year 2017\n",
    "#vect2017 = CountVectorizer(tokenizer=tokenize, lowercase=True, stop_words=sw)\n",
    "#features2017 = vect2017.fit_transform(a2017['body_clean'].values.astype('U'))"
   ]
  },
  {
   "cell_type": "code",
   "execution_count": 72,
   "metadata": {},
   "outputs": [
    {
     "data": {
      "text/plain": [
       "[('göteborg', 706),\n",
       " ('svensk', 674),\n",
       " ('polis', 617),\n",
       " ('skriv', 510),\n",
       " ('match', 461),\n",
       " ('nya', 439),\n",
       " ('hel', 438),\n",
       " ('båd', 433),\n",
       " ('året', 417),\n",
       " ('lit', 391)]"
      ]
     },
     "execution_count": 72,
     "metadata": {},
     "output_type": "execute_result"
    }
   ],
   "source": [
    "# top 10 words for 2015\n",
    "sorted(dict_2015.items(), key=operator.itemgetter(1), reverse=True)[:10]"
   ]
  },
  {
   "cell_type": "code",
   "execution_count": 71,
   "metadata": {},
   "outputs": [
    {
     "data": {
      "text/plain": [
       "[('svensk', 587),\n",
       " ('polis', 549),\n",
       " ('skriv', 430),\n",
       " ('göteborg', 370),\n",
       " ('match', 337),\n",
       " ('lit', 332),\n",
       " ('vis', 307),\n",
       " ('båd', 306),\n",
       " ('hel', 293),\n",
       " ('gång', 290)]"
      ]
     },
     "execution_count": 71,
     "metadata": {},
     "output_type": "execute_result"
    }
   ],
   "source": [
    "# top 10 words for 2016\n",
    "sorted(dict_2016.items(), key=operator.itemgetter(1), reverse=True)[:10]"
   ]
  },
  {
   "cell_type": "markdown",
   "metadata": {
    "collapsed": true
   },
   "source": [
    "#### Let's count number of occurences of the word"
   ]
  },
  {
   "cell_type": "code",
   "execution_count": 60,
   "metadata": {},
   "outputs": [
    {
     "name": "stdout",
     "output_type": "stream",
     "text": [
      "Searching:  polis\n",
      "2015:  617\n",
      "2016:  549\n"
     ]
    }
   ],
   "source": [
    "w = 'polis'\n",
    "w_stemmed = stemmer.stem(w)\n",
    "print(\"Searching: \", w)\n",
    "print(\"2015: \", dict_2015[w_stemmed])\n",
    "print(\"2016: \", dict_2016[w_stemmed])"
   ]
  },
  {
   "cell_type": "markdown",
   "metadata": {},
   "source": [
    "### 2. Build articles classifier"
   ]
  },
  {
   "cell_type": "code",
   "execution_count": 74,
   "metadata": {},
   "outputs": [
    {
     "data": {
      "text/html": [
       "<div>\n",
       "<style>\n",
       "    .dataframe thead tr:only-child th {\n",
       "        text-align: right;\n",
       "    }\n",
       "\n",
       "    .dataframe thead th {\n",
       "        text-align: left;\n",
       "    }\n",
       "\n",
       "    .dataframe tbody tr th {\n",
       "        vertical-align: top;\n",
       "    }\n",
       "</style>\n",
       "<table border=\"1\" class=\"dataframe\">\n",
       "  <thead>\n",
       "    <tr style=\"text-align: right;\">\n",
       "      <th></th>\n",
       "      <th>link</th>\n",
       "      <th>date</th>\n",
       "      <th>title</th>\n",
       "      <th>category</th>\n",
       "      <th>body</th>\n",
       "    </tr>\n",
       "  </thead>\n",
       "  <tbody>\n",
       "    <tr>\n",
       "      <th>count</th>\n",
       "      <td>4219</td>\n",
       "      <td>4219</td>\n",
       "      <td>4219</td>\n",
       "      <td>4207</td>\n",
       "      <td>4214</td>\n",
       "    </tr>\n",
       "    <tr>\n",
       "      <th>unique</th>\n",
       "      <td>4219</td>\n",
       "      <td>221</td>\n",
       "      <td>4206</td>\n",
       "      <td>5</td>\n",
       "      <td>4203</td>\n",
       "    </tr>\n",
       "    <tr>\n",
       "      <th>top</th>\n",
       "      <td>http://www.gp.se/1.66445</td>\n",
       "      <td>2016-03-18</td>\n",
       "      <td>Uppåt på Wall Street</td>\n",
       "      <td>nyheter</td>\n",
       "      <td>Mer information kommer inom kort.</td>\n",
       "    </tr>\n",
       "    <tr>\n",
       "      <th>freq</th>\n",
       "      <td>1</td>\n",
       "      <td>29</td>\n",
       "      <td>3</td>\n",
       "      <td>2478</td>\n",
       "      <td>10</td>\n",
       "    </tr>\n",
       "  </tbody>\n",
       "</table>\n",
       "</div>"
      ],
      "text/plain": [
       "                            link        date                  title category  \\\n",
       "count                       4219        4219                   4219     4207   \n",
       "unique                      4219         221                   4206        5   \n",
       "top     http://www.gp.se/1.66445  2016-03-18  Uppåt på Wall Street   nyheter   \n",
       "freq                           1          29                      3     2478   \n",
       "\n",
       "                                     body  \n",
       "count                                4214  \n",
       "unique                               4203  \n",
       "top     Mer information kommer inom kort.  \n",
       "freq                                   10  "
      ]
     },
     "execution_count": 74,
     "metadata": {},
     "output_type": "execute_result"
    }
   ],
   "source": [
    "articles.describe()"
   ]
  },
  {
   "cell_type": "code",
   "execution_count": 102,
   "metadata": {},
   "outputs": [],
   "source": [
    "from sklearn import preprocessing\n",
    "\n",
    "# cleanup body\n",
    "articles[\"body_clean\"] = articles[\"body\"].apply(clean)\n",
    "\n",
    "# Define X and y\n",
    "X = articles['body_clean']\n",
    "y = articles['category']"
   ]
  },
  {
   "cell_type": "code",
   "execution_count": 103,
   "metadata": {},
   "outputs": [
    {
     "name": "stdout",
     "output_type": "stream",
     "text": [
      "(3375,)\n",
      "(844,)\n"
     ]
    }
   ],
   "source": [
    "# split into training and testing sets\n",
    "from sklearn.cross_validation import train_test_split\n",
    "X_train, X_test, y_train, y_test = train_test_split(X, y, test_size=0.2, random_state=42)\n",
    "print(X_train.shape)\n",
    "print(X_test.shape)"
   ]
  },
  {
   "cell_type": "code",
   "execution_count": 104,
   "metadata": {
    "collapsed": true
   },
   "outputs": [],
   "source": [
    "# instantiate the vectorizer\n",
    "vect = CountVectorizer(tokenizer=tokenize, lowercase=True, stop_words=sw)"
   ]
  },
  {
   "cell_type": "code",
   "execution_count": 105,
   "metadata": {},
   "outputs": [
    {
     "data": {
      "text/plain": [
       "<3375x39649 sparse matrix of type '<class 'numpy.int64'>'\n",
       "\twith 223027 stored elements in Compressed Sparse Row format>"
      ]
     },
     "execution_count": 105,
     "metadata": {},
     "output_type": "execute_result"
    }
   ],
   "source": [
    "# learn training data vocabulary, then create document-term matrix\n",
    "vect.fit(X_train.values.astype('U'))\n",
    "X_train_dtm = vect.transform(X_train.values.astype('U'))\n",
    "X_train_dtm"
   ]
  },
  {
   "cell_type": "code",
   "execution_count": 106,
   "metadata": {},
   "outputs": [
    {
     "data": {
      "text/plain": [
       "<844x39649 sparse matrix of type '<class 'numpy.int64'>'\n",
       "\twith 50820 stored elements in Compressed Sparse Row format>"
      ]
     },
     "execution_count": 106,
     "metadata": {},
     "output_type": "execute_result"
    }
   ],
   "source": [
    "# transform testing data (using fitted vocabulary) into a document-term matrix\n",
    "X_test_dtm = vect.transform(X_test.values.astype('U'))\n",
    "X_test_dtm"
   ]
  },
  {
   "cell_type": "code",
   "execution_count": 123,
   "metadata": {},
   "outputs": [
    {
     "data": {
      "text/plain": [
       "array(['ledare', 'livsstil', 'nan', 'noje', 'nyheter', 'sport'],\n",
       "      dtype='<U8')"
      ]
     },
     "execution_count": 123,
     "metadata": {},
     "output_type": "execute_result"
    }
   ],
   "source": [
    "# use logistic regression\n",
    "from sklearn.linear_model import LogisticRegression\n",
    "logreg = LogisticRegression()\n",
    "logreg.fit(X_train_dtm, y_train.values.astype('U'))\n",
    "logreg.classes_"
   ]
  },
  {
   "cell_type": "code",
   "execution_count": 108,
   "metadata": {
    "collapsed": true
   },
   "outputs": [],
   "source": [
    "# class predictions and predicted probabilities\n",
    "y_pred_class = logreg.predict(X_test_dtm)\n",
    "y_pred_prob = logreg.predict_proba(X_test_dtm)[:, 1]"
   ]
  },
  {
   "cell_type": "code",
   "execution_count": 115,
   "metadata": {},
   "outputs": [
    {
     "name": "stdout",
     "output_type": "stream",
     "text": [
      "['noje' 'nyheter' 'nyheter' 'nyheter' 'nyheter' 'sport' 'nyheter' 'nyheter'\n",
      " 'nyheter' 'nyheter' 'nyheter' 'nyheter' 'nyheter' 'nyheter' 'nyheter'\n",
      " 'nyheter' 'nyheter' 'nyheter' 'nyheter' 'sport' 'sport' 'nyheter' 'noje'\n",
      " 'sport' 'nyheter' 'ledare' 'nyheter' 'nyheter' 'sport' 'nyheter' 'nyheter'\n",
      " 'nyheter' 'nyheter' 'nyheter' 'noje' 'nyheter' 'nyheter' 'noje' 'nyheter'\n",
      " 'nyheter' 'sport' 'sport' 'nyheter' 'sport' 'noje' 'nyheter' 'nyheter'\n",
      " 'nyheter' 'sport' 'noje' 'sport' 'nyheter' 'noje' 'nyheter' 'sport'\n",
      " 'nyheter' 'nyheter' 'noje' 'sport' 'nyheter' 'nyheter' 'noje' 'nyheter'\n",
      " 'sport' 'nyheter' 'nyheter' 'nyheter' 'nyheter' 'nyheter' 'noje' 'sport'\n",
      " 'sport' 'livsstil' 'sport' 'noje' 'nyheter' 'sport' 'nyheter' 'nyheter'\n",
      " 'nyheter' 'nyheter' 'nyheter' 'nyheter' 'noje' 'nyheter' 'nyheter'\n",
      " 'nyheter' 'nyheter' 'nyheter' 'noje' 'noje' 'nyheter' 'nyheter' 'nyheter'\n",
      " 'nyheter' 'nyheter' 'nyheter' 'nyheter' 'nyheter' 'nyheter' 'nyheter'\n",
      " 'noje' 'nyheter' 'sport' 'nyheter' 'nyheter' 'noje' 'nyheter' 'nyheter'\n",
      " 'nyheter' 'sport' 'livsstil' 'nyheter' 'nyheter' 'nyheter' 'nyheter'\n",
      " 'nyheter' 'nyheter' 'sport' 'nyheter' 'nyheter' 'sport' 'nyheter'\n",
      " 'nyheter' 'nyheter' 'nyheter' 'sport' 'nyheter' 'nyheter' 'nyheter'\n",
      " 'nyheter' 'nyheter' 'sport' 'nyheter' 'sport' 'sport' 'sport' 'nyheter'\n",
      " 'nyheter' 'nyheter' 'sport' 'nyheter' 'nyheter' 'nyheter' 'sport' 'noje'\n",
      " 'sport' 'nyheter' 'nyheter' 'nyheter' 'nyheter' 'nyheter' 'nyheter' 'noje'\n",
      " 'noje' 'sport' 'sport' 'nyheter' 'sport' 'nyheter' 'nyheter' 'nyheter'\n",
      " 'nyheter' 'nyheter' 'nyheter' 'nyheter' 'nyheter' 'noje' 'sport' 'noje'\n",
      " 'nyheter' 'nyheter' 'sport' 'noje' 'nyheter' 'nyheter' 'sport' 'nyheter'\n",
      " 'nyheter' 'noje' 'sport' 'nyheter' 'nyheter' 'sport' 'nyheter' 'nyheter'\n",
      " 'nyheter' 'nyheter' 'nyheter' 'nyheter' 'nyheter' 'sport' 'nyheter' 'noje'\n",
      " 'nyheter' 'noje' 'nyheter' 'nyheter' 'nyheter' 'nyheter' 'nyheter'\n",
      " 'nyheter' 'sport' 'sport' 'noje' 'noje' 'nyheter' 'nyheter' 'noje'\n",
      " 'nyheter' 'noje' 'nyheter' 'nyheter' 'nyheter' 'noje' 'nyheter' 'sport'\n",
      " 'noje' 'nyheter' 'nyheter' 'nyheter' 'sport' 'sport' 'nyheter' 'sport'\n",
      " 'noje' 'nyheter' 'nyheter' 'noje' 'nyheter' 'nyheter' 'sport' 'noje'\n",
      " 'nyheter' 'nyheter' 'nyheter' 'nyheter' 'nyheter' 'noje' 'nyheter'\n",
      " 'nyheter' 'livsstil' 'sport' 'livsstil' 'noje' 'noje' 'nyheter' 'nyheter'\n",
      " 'nyheter' 'nyheter' 'noje' 'noje' 'nyheter' 'nyheter' 'nyheter' 'nyheter'\n",
      " 'nyheter' 'nyheter' 'nyheter' 'noje' 'nyheter' 'sport' 'sport' 'nyheter'\n",
      " 'sport' 'nyheter' 'nyheter' 'nyheter' 'sport' 'sport' 'sport' 'sport'\n",
      " 'nyheter' 'nyheter' 'noje' 'noje' 'noje' 'sport' 'nyheter' 'sport'\n",
      " 'nyheter' 'nyheter' 'nyheter' 'nyheter' 'nyheter' 'noje' 'nyheter'\n",
      " 'nyheter' 'nyheter' 'nyheter' 'nyheter' 'nyheter' 'sport' 'sport'\n",
      " 'nyheter' 'nyheter' 'nyheter' 'nyheter' 'nyheter' 'sport' 'sport'\n",
      " 'nyheter' 'nyheter' 'sport' 'nyheter' 'nyheter' 'nyheter' 'nyheter'\n",
      " 'nyheter' 'nyheter' 'nyheter' 'sport' 'nyheter' 'sport' 'sport' 'nyheter'\n",
      " 'nyheter' 'livsstil' 'nyheter' 'sport' 'nyheter' 'sport' 'nyheter'\n",
      " 'nyheter' 'nyheter' 'noje' 'nyheter' 'nyheter' 'nyheter' 'nyheter'\n",
      " 'nyheter' 'sport' 'sport' 'noje' 'nyheter' 'nyheter' 'nyheter' 'sport'\n",
      " 'noje' 'nyheter' 'nyheter' 'nyheter' 'sport' 'nyheter' 'nyheter' 'nyheter'\n",
      " 'nyheter' 'sport' 'nyheter' 'sport' 'nyheter' 'noje' 'sport' 'nyheter'\n",
      " 'nyheter' 'sport' 'nyheter' 'noje' 'nyheter' 'nyheter' 'nyheter' 'nyheter'\n",
      " 'nyheter' 'nyheter' 'nyheter' 'nyheter' 'sport' 'sport' 'sport' 'noje'\n",
      " 'nyheter' 'noje' 'sport' 'nyheter' 'sport' 'nyheter' 'nyheter' 'sport'\n",
      " 'noje' 'nyheter' 'nyheter' 'nyheter' 'sport' 'nyheter' 'nyheter' 'nyheter'\n",
      " 'sport' 'sport' 'nyheter' 'sport' 'noje' 'nyheter' 'nyheter' 'nyheter'\n",
      " 'noje' 'sport' 'nyheter' 'nyheter' 'noje' 'sport' 'sport' 'noje' 'sport'\n",
      " 'nyheter' 'sport' 'sport' 'nyheter' 'nyheter' 'nyheter' 'sport' 'nyheter'\n",
      " 'nyheter' 'nyheter' 'noje' 'sport' 'nyheter' 'nyheter' 'nyheter' 'sport'\n",
      " 'nyheter' 'nyheter' 'sport' 'noje' 'nyheter' 'sport' 'sport' 'nyheter'\n",
      " 'sport' 'nyheter' 'nyheter' 'nyheter' 'noje' 'nyheter' 'nyheter' 'sport'\n",
      " 'nyheter' 'nyheter' 'nyheter' 'sport' 'nyheter' 'sport' 'nyheter' 'sport'\n",
      " 'sport' 'sport' 'noje' 'nyheter' 'nyheter' 'noje' 'sport' 'sport'\n",
      " 'nyheter' 'sport' 'nyheter' 'nyheter' 'sport' 'nyheter' 'nyheter'\n",
      " 'nyheter' 'nyheter' 'sport' 'sport' 'nyheter' 'nyheter' 'nyheter' 'noje'\n",
      " 'sport' 'nyheter' 'nyheter' 'noje' 'sport' 'nyheter' 'nyheter' 'noje'\n",
      " 'sport' 'nyheter' 'nyheter' 'nyheter' 'nyheter' 'nyheter' 'sport' 'noje'\n",
      " 'nyheter' 'nyheter' 'nyheter' 'nyheter' 'nyheter' 'nyheter' 'nyheter'\n",
      " 'nyheter' 'nyheter' 'nyheter' 'nyheter' 'nyheter' 'nyheter' 'sport' 'noje'\n",
      " 'nyheter' 'nyheter' 'nyheter' 'sport' 'nyheter' 'nyheter' 'sport'\n",
      " 'nyheter' 'nyheter' 'nyheter' 'nyheter' 'noje' 'nyheter' 'nyheter'\n",
      " 'nyheter' 'nyheter' 'nyheter' 'nyheter' 'nyheter' 'noje' 'sport' 'nyheter'\n",
      " 'sport' 'sport' 'noje' 'sport' 'sport' 'sport' 'nyheter' 'noje' 'nyheter'\n",
      " 'sport' 'nyheter' 'sport' 'nyheter' 'nyheter' 'sport' 'nyheter' 'nyheter'\n",
      " 'livsstil' 'nyheter' 'nyheter' 'sport' 'noje' 'nyheter' 'nyheter'\n",
      " 'nyheter' 'nyheter' 'nyheter' 'nyheter' 'noje' 'noje' 'nyheter' 'nyheter'\n",
      " 'sport' 'nyheter' 'nyheter' 'nyheter' 'nyheter' 'noje' 'noje' 'sport'\n",
      " 'noje' 'nyheter' 'nyheter' 'nyheter' 'nyheter' 'sport' 'sport' 'nyheter'\n",
      " 'nyheter' 'nyheter' 'nyheter' 'nyheter' 'noje' 'nyheter' 'nyheter' 'sport'\n",
      " 'sport' 'sport' 'nyheter' 'nyheter' 'nyheter' 'nyheter' 'nyheter'\n",
      " 'nyheter' 'nyheter' 'sport' 'nyheter' 'sport' 'noje' 'nyheter' 'nyheter'\n",
      " 'sport' 'nyheter' 'sport' 'nyheter' 'noje' 'nyheter' 'noje' 'nyheter'\n",
      " 'nyheter' 'nyheter' 'nyheter' 'noje' 'noje' 'noje' 'nyheter' 'noje'\n",
      " 'nyheter' 'sport' 'nyheter' 'nyheter' 'nyheter' 'nyheter' 'nyheter' 'noje'\n",
      " 'noje' 'nyheter' 'nyheter' 'nyheter' 'noje' 'nyheter' 'sport' 'sport'\n",
      " 'livsstil' 'nyheter' 'noje' 'nyheter' 'sport' 'sport' 'nyheter' 'nyheter'\n",
      " 'nyheter' 'nyheter' 'nyheter' 'nyheter' 'nyheter' 'noje' 'nyheter' 'sport'\n",
      " 'nyheter' 'sport' 'nyheter' 'nyheter' 'sport' 'noje' 'nyheter' 'nyheter'\n",
      " 'nyheter' 'nyheter' 'nyheter' 'nyheter' 'noje' 'nyheter' 'nyheter' 'sport'\n",
      " 'nyheter' 'nyheter' 'nyheter' 'nyheter' 'nyheter' 'sport' 'nyheter'\n",
      " 'sport' 'nyheter' 'nyheter' 'nyheter' 'sport' 'nyheter' 'nyheter' 'sport'\n",
      " 'nyheter' 'nyheter' 'nyheter' 'sport' 'nyheter' 'sport' 'nyheter'\n",
      " 'nyheter' 'sport' 'nyheter' 'nyheter' 'sport' 'noje' 'nyheter' 'nyheter'\n",
      " 'nyheter' 'nyheter' 'sport' 'noje' 'nyheter' 'nyheter' 'nyheter' 'nyheter'\n",
      " 'nyheter' 'nyheter' 'nyheter' 'sport' 'noje' 'nyheter' 'nyheter' 'nyheter'\n",
      " 'nyheter' 'livsstil' 'nyheter' 'sport' 'nyheter' 'nyheter' 'nyheter'\n",
      " 'nyheter' 'nyheter' 'nyheter' 'nyheter' 'nyheter' 'nyheter' 'nyheter'\n",
      " 'noje' 'nyheter' 'noje' 'noje' 'nyheter' 'noje' 'nyheter' 'nyheter' 'noje'\n",
      " 'sport' 'nyheter' 'nyheter' 'nyheter' 'nyheter' 'noje' 'noje' 'nyheter'\n",
      " 'nyheter' 'sport' 'nyheter' 'nyheter' 'noje' 'nyheter' 'nyheter' 'noje'\n",
      " 'nyheter' 'nyheter' 'nyheter' 'nyheter' 'nyheter' 'nyheter' 'noje'\n",
      " 'nyheter' 'nyheter' 'sport' 'noje' 'nyheter' 'sport' 'noje' 'nyheter'\n",
      " 'nyheter' 'sport' 'nyheter' 'nyheter' 'nyheter' 'noje' 'livsstil'\n",
      " 'nyheter' 'sport' 'nyheter' 'sport' 'sport' 'nyheter' 'nyheter' 'nyheter'\n",
      " 'nyheter' 'sport' 'noje' 'sport' 'nyheter' 'sport' 'nyheter' 'nyheter'\n",
      " 'nyheter' 'nyheter' 'noje' 'sport' 'nyheter' 'sport' 'sport' 'nyheter'\n",
      " 'sport' 'livsstil' 'nyheter' 'sport' 'noje' 'nyheter' 'sport' 'sport'\n",
      " 'nyheter' 'nyheter' 'nyheter' 'sport' 'nyheter' 'nyheter' 'sport' 'noje'\n",
      " 'noje' 'nyheter' 'sport' 'sport' 'nyheter' 'nyheter' 'nyheter' 'nyheter'\n",
      " 'nyheter' 'sport' 'nyheter' 'nyheter' 'nyheter' 'nyheter' 'sport'\n",
      " 'nyheter' 'nyheter' 'nyheter' 'livsstil' 'nyheter' 'nyheter' 'sport'\n",
      " 'nyheter' 'nyheter' 'nyheter' 'noje' 'nyheter' 'noje' 'nyheter' 'nyheter'\n",
      " 'noje' 'nyheter' 'nyheter' 'nyheter' 'nyheter' 'nyheter' 'nyheter' 'noje'\n",
      " 'nyheter' 'nyheter' 'sport' 'nyheter' 'nyheter']\n"
     ]
    }
   ],
   "source": [
    "print(y_pred_class)\n",
    "# print(y_pred_prob)"
   ]
  },
  {
   "cell_type": "markdown",
   "metadata": {},
   "source": [
    "# Evaluate the model"
   ]
  },
  {
   "cell_type": "markdown",
   "metadata": {},
   "source": [
    "By looking at its accuracy:"
   ]
  },
  {
   "cell_type": "code",
   "execution_count": 109,
   "metadata": {},
   "outputs": [
    {
     "name": "stdout",
     "output_type": "stream",
     "text": [
      "0.920616113744\n"
     ]
    }
   ],
   "source": [
    "# calculate accuracy and AUC\n",
    "from sklearn import metrics\n",
    "print(metrics.accuracy_score(y_test.values.astype('U'), y_pred_class))\n",
    "# print(metrics.roc_auc_score(y_test.values.astype('U'), y_pred_prob))"
   ]
  },
  {
   "cell_type": "code",
   "execution_count": 110,
   "metadata": {},
   "outputs": [
    {
     "name": "stdout",
     "output_type": "stream",
     "text": [
      "[[  1   0   0   0  11   0]\n",
      " [  0  11   0   0   8   0]\n",
      " [  0   0   0   2   3   0]\n",
      " [  0   0   0 104  19   3]\n",
      " [  0   0   0   9 484   2]\n",
      " [  0   0   0   1   9 177]]\n"
     ]
    }
   ],
   "source": [
    "print(metrics.confusion_matrix(y_test.values.astype('U'), y_pred_class))\n",
    "# there is a strange new class. fix it later"
   ]
  },
  {
   "cell_type": "code",
   "execution_count": 118,
   "metadata": {
    "collapsed": true
   },
   "outputs": [],
   "source": [
    "def plot_confusion_matrix(cm, classes,\n",
    "                          normalize=False,\n",
    "                          title='Confusion matrix',\n",
    "                          cmap=plt.cm.Blues):\n",
    "    \"\"\"\n",
    "    This function prints and plots the confusion matrix.\n",
    "    Normalization can be applied by setting `normalize=True`.\n",
    "    \"\"\"\n",
    "    if normalize:\n",
    "        cm = cm.astype('float') / cm.sum(axis=1)[:, np.newaxis]\n",
    "        print(\"Normalized confusion matrix\")\n",
    "    else:\n",
    "        print('Confusion matrix, without normalization')\n",
    "\n",
    "    print(cm)\n",
    "\n",
    "    plt.imshow(cm, interpolation='nearest', cmap=cmap)\n",
    "    plt.title(title)\n",
    "    plt.colorbar()\n",
    "    tick_marks = np.arange(len(classes))\n",
    "    plt.xticks(tick_marks, classes, rotation=45)\n",
    "    plt.yticks(tick_marks, classes)\n",
    "\n",
    "    fmt = '.2f' if normalize else 'd'\n",
    "    thresh = cm.max() / 2.\n",
    "    for i, j in itertools.product(range(cm.shape[0]), range(cm.shape[1])):\n",
    "        plt.text(j, i, format(cm[i, j], fmt),\n",
    "                 horizontalalignment=\"center\",\n",
    "                 color=\"white\" if cm[i, j] > thresh else \"black\")\n",
    "\n",
    "    plt.tight_layout()\n",
    "    plt.ylabel('True label')\n",
    "    plt.xlabel('Predicted label')"
   ]
  },
  {
   "cell_type": "code",
   "execution_count": 124,
   "metadata": {},
   "outputs": [
    {
     "name": "stdout",
     "output_type": "stream",
     "text": [
      "Confusion matrix, without normalization\n",
      "[[  1   0   0   0  11   0]\n",
      " [  0  11   0   0   8   0]\n",
      " [  0   0   0   2   3   0]\n",
      " [  0   0   0 104  19   3]\n",
      " [  0   0   0   9 484   2]\n",
      " [  0   0   0   1   9 177]]\n"
     ]
    },
    {
     "ename": "NameError",
     "evalue": "name 'itertools' is not defined",
     "output_type": "error",
     "traceback": [
      "\u001b[0;31m---------------------------------------------------------------------------\u001b[0m",
      "\u001b[0;31mNameError\u001b[0m                                 Traceback (most recent call last)",
      "\u001b[0;32m<ipython-input-124-e22334d73474>\u001b[0m in \u001b[0;36m<module>\u001b[0;34m()\u001b[0m\n\u001b[1;32m      6\u001b[0m \u001b[0mplt\u001b[0m\u001b[0;34m.\u001b[0m\u001b[0mfigure\u001b[0m\u001b[0;34m(\u001b[0m\u001b[0;34m)\u001b[0m\u001b[0;34m\u001b[0m\u001b[0m\n\u001b[1;32m      7\u001b[0m plot_confusion_matrix(cnf_matrix, classes=['ledare', 'livsstil', 'nan', 'noje', 'nyheter', 'sport'],\n\u001b[0;32m----> 8\u001b[0;31m                       title='Confusion matrix, without normalization')\n\u001b[0m\u001b[1;32m      9\u001b[0m \u001b[0;34m\u001b[0m\u001b[0m\n\u001b[1;32m     10\u001b[0m \u001b[0mplt\u001b[0m\u001b[0;34m.\u001b[0m\u001b[0mshow\u001b[0m\u001b[0;34m(\u001b[0m\u001b[0;34m)\u001b[0m\u001b[0;34m\u001b[0m\u001b[0m\n",
      "\u001b[0;32m<ipython-input-118-901ecf7c38c0>\u001b[0m in \u001b[0;36mplot_confusion_matrix\u001b[0;34m(cm, classes, normalize, title, cmap)\u001b[0m\n\u001b[1;32m     24\u001b[0m     \u001b[0mfmt\u001b[0m \u001b[0;34m=\u001b[0m \u001b[0;34m'.2f'\u001b[0m \u001b[0;32mif\u001b[0m \u001b[0mnormalize\u001b[0m \u001b[0;32melse\u001b[0m \u001b[0;34m'd'\u001b[0m\u001b[0;34m\u001b[0m\u001b[0m\n\u001b[1;32m     25\u001b[0m     \u001b[0mthresh\u001b[0m \u001b[0;34m=\u001b[0m \u001b[0mcm\u001b[0m\u001b[0;34m.\u001b[0m\u001b[0mmax\u001b[0m\u001b[0;34m(\u001b[0m\u001b[0;34m)\u001b[0m \u001b[0;34m/\u001b[0m \u001b[0;36m2.\u001b[0m\u001b[0;34m\u001b[0m\u001b[0m\n\u001b[0;32m---> 26\u001b[0;31m     \u001b[0;32mfor\u001b[0m \u001b[0mi\u001b[0m\u001b[0;34m,\u001b[0m \u001b[0mj\u001b[0m \u001b[0;32min\u001b[0m \u001b[0mitertools\u001b[0m\u001b[0;34m.\u001b[0m\u001b[0mproduct\u001b[0m\u001b[0;34m(\u001b[0m\u001b[0mrange\u001b[0m\u001b[0;34m(\u001b[0m\u001b[0mcm\u001b[0m\u001b[0;34m.\u001b[0m\u001b[0mshape\u001b[0m\u001b[0;34m[\u001b[0m\u001b[0;36m0\u001b[0m\u001b[0;34m]\u001b[0m\u001b[0;34m)\u001b[0m\u001b[0;34m,\u001b[0m \u001b[0mrange\u001b[0m\u001b[0;34m(\u001b[0m\u001b[0mcm\u001b[0m\u001b[0;34m.\u001b[0m\u001b[0mshape\u001b[0m\u001b[0;34m[\u001b[0m\u001b[0;36m1\u001b[0m\u001b[0;34m]\u001b[0m\u001b[0;34m)\u001b[0m\u001b[0;34m)\u001b[0m\u001b[0;34m:\u001b[0m\u001b[0;34m\u001b[0m\u001b[0m\n\u001b[0m\u001b[1;32m     27\u001b[0m         plt.text(j, i, format(cm[i, j], fmt),\n\u001b[1;32m     28\u001b[0m                  \u001b[0mhorizontalalignment\u001b[0m\u001b[0;34m=\u001b[0m\u001b[0;34m\"center\"\u001b[0m\u001b[0;34m,\u001b[0m\u001b[0;34m\u001b[0m\u001b[0m\n",
      "\u001b[0;31mNameError\u001b[0m: name 'itertools' is not defined"
     ]
    },
    {
     "name": "stderr",
     "output_type": "stream",
     "text": [
      "/env/lib/python3.6/site-packages/matplotlib/font_manager.py:1297: UserWarning: findfont: Font family ['sans-serif'] not found. Falling back to DejaVu Sans\n",
      "  (prop.get_family(), self.defaultFamily[fontext]))\n"
     ]
    },
    {
     "data": {
      "image/png": "[encoded data removed]",
      "text/plain": [
       "<matplotlib.figure.Figure at 0x7fd846f55978>"
      ]
     },
     "metadata": {},
     "output_type": "display_data"
    }
   ],
   "source": [
    "# Compute confusion matrix\n",
    "cnf_matrix = metrics.confusion_matrix(y_test.values.astype('U'), y_pred_class)\n",
    "np.set_printoptions(precision=2)\n",
    "\n",
    "# Plot non-normalized confusion matrix\n",
    "plt.figure()\n",
    "plot_confusion_matrix(cnf_matrix, classes=['ledare', 'livsstil', 'nan', 'noje', 'nyheter', 'sport'],\n",
    "                      title='Confusion matrix, without normalization')\n",
    "\n",
    "plt.show()"
   ]
  },
  {
   "cell_type": "markdown",
   "metadata": {},
   "source": [
    "### Applying the learned model to predict an article category"
   ]
  },
  {
   "cell_type": "code",
   "execution_count": 132,
   "metadata": {
    "collapsed": true
   },
   "outputs": [],
   "source": [
    "yoko = articles[articles['link'] == 'http://www.gp.se/1.1321']"
   ]
  },
  {
   "cell_type": "code",
   "execution_count": 133,
   "metadata": {},
   "outputs": [
    {
     "name": "stdout",
     "output_type": "stream",
     "text": [
      "                      link        date      title category  \\\n",
      "4  http://www.gp.se/1.1321  2016-02-19  Yoko Ono      noje   \n",
      "\n",
      "                                                body  \\\n",
      "4  Det är omöjligt att skilja på Yoko Onos konst ...   \n",
      "\n",
      "                                          body_clean  \n",
      "4  Det är omöjligt att skilja på Yoko Onos konst ...  \n"
     ]
    }
   ],
   "source": [
    "print(yoko)"
   ]
  },
  {
   "cell_type": "code",
   "execution_count": 135,
   "metadata": {},
   "outputs": [
    {
     "data": {
      "text/plain": [
       "<1x39649 sparse matrix of type '<class 'numpy.int64'>'\n",
       "\twith 105 stored elements in Compressed Sparse Row format>"
      ]
     },
     "execution_count": 135,
     "metadata": {},
     "output_type": "execute_result"
    }
   ],
   "source": [
    "# Vectorize Yoko article\n",
    "yoko_vect_dtm = vect.transform(yoko['body'])\n",
    "yoko_vect_dtm"
   ]
  },
  {
   "cell_type": "code",
   "execution_count": 136,
   "metadata": {},
   "outputs": [
    {
     "data": {
      "text/plain": [
       "array(['noje'],\n",
       "      dtype='<U8')"
      ]
     },
     "execution_count": 136,
     "metadata": {},
     "output_type": "execute_result"
    }
   ],
   "source": [
    "logreg.predict(yoko_vect_dtm)"
   ]
  },
  {
   "cell_type": "markdown",
   "metadata": {},
   "source": [
    "Yeah! It is news. But the most of articles are news.\n",
    "So let`s test sport. \n",
    "http://www.gp.se/1.289"
   ]
  },
  {
   "cell_type": "code",
   "execution_count": 142,
   "metadata": {
    "collapsed": true
   },
   "outputs": [],
   "source": [
    "sport_article = articles[articles['link'] == 'http://www.gp.se/1.289']"
   ]
  },
  {
   "cell_type": "code",
   "execution_count": 144,
   "metadata": {},
   "outputs": [
    {
     "data": {
      "text/plain": [
       "<1x39649 sparse matrix of type '<class 'numpy.int64'>'\n",
       "\twith 42 stored elements in Compressed Sparse Row format>"
      ]
     },
     "execution_count": 144,
     "metadata": {},
     "output_type": "execute_result"
    }
   ],
   "source": [
    "# Vectorize sport article\n",
    "sport_vect_dtm = vect.transform(sport_article['body'])\n",
    "sport_vect_dtm"
   ]
  },
  {
   "cell_type": "code",
   "execution_count": 145,
   "metadata": {},
   "outputs": [
    {
     "name": "stdout",
     "output_type": "stream",
     "text": [
      "                     link        date  \\\n",
      "0  http://www.gp.se/1.289  2016-02-24   \n",
      "\n",
      "                                               title category  \\\n",
      "0  VM-hjälten twittrade om presidenten – riskerar...    sport   \n",
      "\n",
      "                                                body  \\\n",
      "0  Åklagare har åtalat Sükür för att på Twitter h...   \n",
      "\n",
      "                                          body_clean  \n",
      "0  Åklagare har åtalat S k r för att på Twitter h...  \n"
     ]
    }
   ],
   "source": [
    "print(sport_article)"
   ]
  },
  {
   "cell_type": "code",
   "execution_count": 146,
   "metadata": {},
   "outputs": [
    {
     "data": {
      "text/plain": [
       "array(['sport'],\n",
       "      dtype='<U8')"
      ]
     },
     "execution_count": 146,
     "metadata": {},
     "output_type": "execute_result"
    }
   ],
   "source": [
    "logreg.predict(sport_vect_dtm)"
   ]
  },
  {
   "cell_type": "markdown",
   "metadata": {},
   "source": [
    "### It is sport. Yeah!"
   ]
  },
  {
   "cell_type": "markdown",
   "metadata": {},
   "source": [
    "Now let`s predict unknown to model article category."
   ]
  },
  {
   "cell_type": "code",
   "execution_count": 147,
   "metadata": {
    "collapsed": true
   },
   "outputs": [],
   "source": [
    "art_unknown = pandas.DataFrame(columns=column_names)"
   ]
  },
  {
   "cell_type": "code",
   "execution_count": 158,
   "metadata": {},
   "outputs": [
    {
     "data": {
      "text/html": [
       "<div>\n",
       "<style>\n",
       "    .dataframe thead tr:only-child th {\n",
       "        text-align: right;\n",
       "    }\n",
       "\n",
       "    .dataframe thead th {\n",
       "        text-align: left;\n",
       "    }\n",
       "\n",
       "    .dataframe tbody tr th {\n",
       "        vertical-align: top;\n",
       "    }\n",
       "</style>\n",
       "<table border=\"1\" class=\"dataframe\">\n",
       "  <thead>\n",
       "    <tr style=\"text-align: right;\">\n",
       "      <th></th>\n",
       "      <th>link</th>\n",
       "      <th>date</th>\n",
       "      <th>title</th>\n",
       "      <th>category</th>\n",
       "      <th>body</th>\n",
       "    </tr>\n",
       "  </thead>\n",
       "  <tbody>\n",
       "  </tbody>\n",
       "</table>\n",
       "</div>"
      ],
      "text/plain": [
       "Empty DataFrame\n",
       "Columns: [link, date, title, category, body]\n",
       "Index: []"
      ]
     },
     "execution_count": 158,
     "metadata": {},
     "output_type": "execute_result"
    }
   ],
   "source": [
    "art_unknown"
   ]
  },
  {
   "cell_type": "code",
   "execution_count": 159,
   "metadata": {},
   "outputs": [],
   "source": [
    "art_unknown.loc[-1] = ['http://www.gp.se/1.4580602', '2017-08-31', 'Dill förhöjer smakupplevelsen', 'livsstil', 'Dill är en av de finaste örter vi har. Vi borde hylla den oftare. Dillsmak piggar upp, förhöjer och gör livet lite, lite härligare.Finge jag välja en enda smak som står för landet där jag har fötts och vuxit upp i så måste det helt enkelt bli dill. Ingen annan smak kan mäta sig med den fosterlandskärlek jag kan känna när dillen tillåts dominera och ta plats i en rätt. Dill är förvisso ett vanligt inslag såväl i Mellanöstern som i det grekiska köket, men man har blott sin egen nostalgi att utgå ifrån. Det är något med det milda och aromatiskt friska, samtidigt som det ger en vital extrakick utan att någonsin gå för långt. Jag tror (har dock inga som helst vetenskapliga belägg för detta) att det är tekniskt omöjligt att överdosera dill. Ju mer desto roligare, liksom. Och dill passar till så mycket – skaldjur, fisk, grönsaker, fågel, svamp, gryner, soppor och sallader … Det finns helt enkelt inga begränsningar. Men som med alla fagra skönheter gäller det att fånga dem i flykten. Smaken försvinner snabbt och bör därför tillsättas så sent som möjligt under tillagningen. Det man däremot kan göra är att dra nytta av stjälkarna och låta dem koka med för att ge smak. En läcker effekt kan också vara att förstärka och bredda dillsmaken genom att smussla ned lite stötta dillfrön. Dill+dill=extra gott. Köp helst dill i lösvikt. Den smakar så oerhört mycket mer än de taniga stackars vipporna i plastkruka. Skär av stjälkarna och ställ dillen i ett glas kallt vatten. Torkad dill är tyvärr inte mycket att ha, då är frusen nästan att föredra – även om den inte kan mäta sig med färsk på långa vägar. Jag har ett doftminne som jag vårdar ömt och plockar fram gråtrista dagar. En cykelfärd i sensommarskymningen utanför Mölle i nordvästra Skåne. Jag kämpar mig uppför den brantaste av backar och precis när det äntligen är dags att hämta andan slår den emot mig. Doftväggen. Ett helt fält av dill mitt framför mig. Åkern doftar ljuvligare än all världens lyxparfymer. Näsvingarna fladdrar av lycka och den intensiva dilldoften går rakt in i hjärtat. Dill gör sådant med oss.']\n",
    "\n",
    "#art_unknown['link'][0] = 'http://www.gp.se/1.4580602'\n",
    "#art_unknown['title'] = 'Dill förhöjer smakupplevelsen'\n",
    "#art_unknown['category'] = 'livsstil'\n",
    "#art_unknown['date'] = '2017-08-31'\n",
    "#art_unknown['body'] = 'Dill är en av de finaste örter vi har. Vi borde hylla den oftare. Dillsmak piggar upp, förhöjer och gör livet lite, lite härligare.Finge jag välja en enda smak som står för landet där jag har fötts och vuxit upp i så måste det helt enkelt bli dill. Ingen annan smak kan mäta sig med den fosterlandskärlek jag kan känna när dillen tillåts dominera och ta plats i en rätt. Dill är förvisso ett vanligt inslag såväl i Mellanöstern som i det grekiska köket, men man har blott sin egen nostalgi att utgå ifrån. Det är något med det milda och aromatiskt friska, samtidigt som det ger en vital extrakick utan att någonsin gå för långt. Jag tror (har dock inga som helst vetenskapliga belägg för detta) att det är tekniskt omöjligt att överdosera dill. Ju mer desto roligare, liksom. Och dill passar till så mycket – skaldjur, fisk, grönsaker, fågel, svamp, gryner, soppor och sallader … Det finns helt enkelt inga begränsningar. Men som med alla fagra skönheter gäller det att fånga dem i flykten. Smaken försvinner snabbt och bör därför tillsättas så sent som möjligt under tillagningen. Det man däremot kan göra är att dra nytta av stjälkarna och låta dem koka med för att ge smak. En läcker effekt kan också vara att förstärka och bredda dillsmaken genom att smussla ned lite stötta dillfrön. Dill+dill=extra gott. Köp helst dill i lösvikt. Den smakar så oerhört mycket mer än de taniga stackars vipporna i plastkruka. Skär av stjälkarna och ställ dillen i ett glas kallt vatten. Torkad dill är tyvärr inte mycket att ha, då är frusen nästan att föredra – även om den inte kan mäta sig med färsk på långa vägar. Jag har ett doftminne som jag vårdar ömt och plockar fram gråtrista dagar. En cykelfärd i sensommarskymningen utanför Mölle i nordvästra Skåne. Jag kämpar mig uppför den brantaste av backar och precis när det äntligen är dags att hämta andan slår den emot mig. Doftväggen. Ett helt fält av dill mitt framför mig. Åkern doftar ljuvligare än all världens lyxparfymer. Näsvingarna fladdrar av lycka och den intensiva dilldoften går rakt in i hjärtat. Dill gör sådant med oss.'"
   ]
  },
  {
   "cell_type": "code",
   "execution_count": 160,
   "metadata": {},
   "outputs": [
    {
     "data": {
      "text/html": [
       "<div>\n",
       "<style>\n",
       "    .dataframe thead tr:only-child th {\n",
       "        text-align: right;\n",
       "    }\n",
       "\n",
       "    .dataframe thead th {\n",
       "        text-align: left;\n",
       "    }\n",
       "\n",
       "    .dataframe tbody tr th {\n",
       "        vertical-align: top;\n",
       "    }\n",
       "</style>\n",
       "<table border=\"1\" class=\"dataframe\">\n",
       "  <thead>\n",
       "    <tr style=\"text-align: right;\">\n",
       "      <th></th>\n",
       "      <th>link</th>\n",
       "      <th>date</th>\n",
       "      <th>title</th>\n",
       "      <th>category</th>\n",
       "      <th>body</th>\n",
       "    </tr>\n",
       "  </thead>\n",
       "  <tbody>\n",
       "    <tr>\n",
       "      <th>-1</th>\n",
       "      <td>http://www.gp.se/1.4580602</td>\n",
       "      <td>2017-08-31</td>\n",
       "      <td>Dill förhöjer smakupplevelsen</td>\n",
       "      <td>livsstil</td>\n",
       "      <td>Dill är en av de finaste örter vi har. Vi bord...</td>\n",
       "    </tr>\n",
       "  </tbody>\n",
       "</table>\n",
       "</div>"
      ],
      "text/plain": [
       "                          link        date                          title  \\\n",
       "-1  http://www.gp.se/1.4580602  2017-08-31  Dill förhöjer smakupplevelsen   \n",
       "\n",
       "    category                                               body  \n",
       "-1  livsstil  Dill är en av de finaste örter vi har. Vi bord...  "
      ]
     },
     "execution_count": 160,
     "metadata": {},
     "output_type": "execute_result"
    }
   ],
   "source": [
    "art_unknown"
   ]
  },
  {
   "cell_type": "code",
   "execution_count": 161,
   "metadata": {},
   "outputs": [
    {
     "data": {
      "text/plain": [
       "<1x39649 sparse matrix of type '<class 'numpy.int64'>'\n",
       "\twith 119 stored elements in Compressed Sparse Row format>"
      ]
     },
     "execution_count": 161,
     "metadata": {},
     "output_type": "execute_result"
    }
   ],
   "source": [
    "# Vectorize article\n",
    "unk_vect_dtm = vect.transform(art_unknown['body'])\n",
    "unk_vect_dtm"
   ]
  },
  {
   "cell_type": "code",
   "execution_count": 162,
   "metadata": {},
   "outputs": [
    {
     "data": {
      "text/plain": [
       "array(['livsstil'],\n",
       "      dtype='<U8')"
      ]
     },
     "execution_count": 162,
     "metadata": {},
     "output_type": "execute_result"
    }
   ],
   "source": [
    "logreg.predict(unk_vect_dtm)"
   ]
  },
  {
   "cell_type": "markdown",
   "metadata": {},
   "source": [
    "## Super. It is predicted correctly"
   ]
  },
  {
   "cell_type": "code",
   "execution_count": null,
   "metadata": {
    "collapsed": true
   },
   "outputs": [],
   "source": []
  }
 ],
 "metadata": {
  "kernelspec": {
   "display_name": "Python 3",
   "language": "python",
   "name": "python3"
  },
  "language_info": {
   "codemirror_mode": {
    "name": "ipython",
    "version": 3
   },
   "file_extension": ".py",
   "mimetype": "text/x-python",
   "name": "python",
   "nbconvert_exporter": "python",
   "pygments_lexer": "ipython3",
   "version": "3.6.1"
  }
 },
 "nbformat": 4,
 "nbformat_minor": 2
}
